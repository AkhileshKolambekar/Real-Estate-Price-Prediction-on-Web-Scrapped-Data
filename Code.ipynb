{
 "cells": [
  {
   "cell_type": "code",
   "execution_count": 1,
   "id": "f52daf28",
   "metadata": {},
   "outputs": [],
   "source": [
    "import pandas as pd\n",
    "import numpy as np\n",
    "\n",
    "import regex as re\n",
    "\n",
    "from sklearn.impute import KNNImputer\n",
    "\n",
    "from sklearn.model_selection import train_test_split\n",
    "from sklearn.model_selection import GridSearchCV\n",
    "\n",
    "from sklearn.linear_model import LinearRegression\n",
    "from sklearn.tree import DecisionTreeRegressor\n",
    "from sklearn.ensemble import RandomForestRegressor"
   ]
  },
  {
   "cell_type": "code",
   "execution_count": 2,
   "id": "29b9fd92",
   "metadata": {},
   "outputs": [
    {
     "data": {
      "text/html": [
       "<div>\n",
       "<style scoped>\n",
       "    .dataframe tbody tr th:only-of-type {\n",
       "        vertical-align: middle;\n",
       "    }\n",
       "\n",
       "    .dataframe tbody tr th {\n",
       "        vertical-align: top;\n",
       "    }\n",
       "\n",
       "    .dataframe thead th {\n",
       "        text-align: right;\n",
       "    }\n",
       "</style>\n",
       "<table border=\"1\" class=\"dataframe\">\n",
       "  <thead>\n",
       "    <tr style=\"text-align: right;\">\n",
       "      <th></th>\n",
       "      <th>Property</th>\n",
       "      <th>Bhk</th>\n",
       "      <th>Floor</th>\n",
       "      <th>Area</th>\n",
       "      <th>Price</th>\n",
       "    </tr>\n",
       "  </thead>\n",
       "  <tbody>\n",
       "    <tr>\n",
       "      <th>0</th>\n",
       "      <td>Flat</td>\n",
       "      <td>3</td>\n",
       "      <td>NaN</td>\n",
       "      <td>957.0</td>\n",
       "      <td>₹\\n1.92 Cr</td>\n",
       "    </tr>\n",
       "    <tr>\n",
       "      <th>1</th>\n",
       "      <td>Flat</td>\n",
       "      <td>3</td>\n",
       "      <td>NaN</td>\n",
       "      <td>1199.0</td>\n",
       "      <td>₹\\n1.29 Cr</td>\n",
       "    </tr>\n",
       "    <tr>\n",
       "      <th>2</th>\n",
       "      <td>Flat</td>\n",
       "      <td>2</td>\n",
       "      <td>NaN</td>\n",
       "      <td>882.0</td>\n",
       "      <td>₹\\n1.65 Cr</td>\n",
       "    </tr>\n",
       "    <tr>\n",
       "      <th>3</th>\n",
       "      <td>Flat</td>\n",
       "      <td>2</td>\n",
       "      <td>NaN</td>\n",
       "      <td>825.0</td>\n",
       "      <td>₹\\n91 Lac</td>\n",
       "    </tr>\n",
       "    <tr>\n",
       "      <th>4</th>\n",
       "      <td>Flat</td>\n",
       "      <td>3</td>\n",
       "      <td>NaN</td>\n",
       "      <td>1414.0</td>\n",
       "      <td>₹\\n2.97 Cr</td>\n",
       "    </tr>\n",
       "  </tbody>\n",
       "</table>\n",
       "</div>"
      ],
      "text/plain": [
       "  Property  Bhk Floor    Area       Price\n",
       "0     Flat    3   NaN   957.0  ₹\\n1.92 Cr\n",
       "1     Flat    3   NaN  1199.0  ₹\\n1.29 Cr\n",
       "2     Flat    2   NaN   882.0  ₹\\n1.65 Cr\n",
       "3     Flat    2   NaN   825.0   ₹\\n91 Lac\n",
       "4     Flat    3   NaN  1414.0  ₹\\n2.97 Cr"
      ]
     },
     "execution_count": 2,
     "metadata": {},
     "output_type": "execute_result"
    }
   ],
   "source": [
    "df = pd.read_csv('data.csv')\n",
    "df.head()"
   ]
  },
  {
   "cell_type": "code",
   "execution_count": 3,
   "id": "9a3bc1fd",
   "metadata": {},
   "outputs": [
    {
     "data": {
      "text/plain": [
       "(3150, 5)"
      ]
     },
     "execution_count": 3,
     "metadata": {},
     "output_type": "execute_result"
    }
   ],
   "source": [
    "df.shape"
   ]
  },
  {
   "cell_type": "code",
   "execution_count": 4,
   "id": "b203af15",
   "metadata": {},
   "outputs": [
    {
     "name": "stdout",
     "output_type": "stream",
     "text": [
      "Property =  ['Flat' 'Apartment' 'Builder' 'Penthouse']\n",
      "BHK =  [3 2 4 1 5]\n",
      "Floor =  [nan '14' '11' '30' '5' '8' '10' '12' '9' '15' '18' '16' '7' '4' '6' '3'\n",
      " 'Lower' '22' '2' '1' '20' '21' '17' '23' 'Ground' '19' '27' '26' '13'\n",
      " 'Upper' '29' '28']\n"
     ]
    }
   ],
   "source": [
    "print(\"Property = \",df['Property'].unique())\n",
    "print(\"BHK = \",df['Bhk'].unique())\n",
    "print(\"Floor = \",df['Floor'].unique())"
   ]
  },
  {
   "cell_type": "code",
   "execution_count": 5,
   "id": "311bebb5",
   "metadata": {},
   "outputs": [],
   "source": [
    "df['Floor'] = df['Floor'].replace('Lower',0)\n",
    "df['Floor'] = df['Floor'].replace('Upper',1)\n",
    "df['Floor'] = df['Floor'].replace('Ground',0)"
   ]
  },
  {
   "cell_type": "code",
   "execution_count": 6,
   "id": "db60db19",
   "metadata": {},
   "outputs": [
    {
     "data": {
      "text/plain": [
       "Property      0\n",
       "Bhk           0\n",
       "Floor       792\n",
       "Area        133\n",
       "Price         0\n",
       "dtype: int64"
      ]
     },
     "execution_count": 6,
     "metadata": {},
     "output_type": "execute_result"
    }
   ],
   "source": [
    "df.isna().sum()"
   ]
  },
  {
   "cell_type": "code",
   "execution_count": 7,
   "id": "188e44b8",
   "metadata": {},
   "outputs": [],
   "source": [
    "df['Area'].fillna(df['Area'].median(),inplace = True)"
   ]
  },
  {
   "cell_type": "code",
   "execution_count": 8,
   "id": "23462cf2",
   "metadata": {},
   "outputs": [],
   "source": [
    "# Flat = 1, Apartment = 2, Builder = 3, Penthouse = 4\n",
    "df['Property'] = df['Property'].replace('Flat',1)\n",
    "df['Property'] = df['Property'].replace('Apartment',2)\n",
    "df['Property'] = df['Property'].replace('Builder',3)\n",
    "df['Property'] = df['Property'].replace('Penthouse',4)"
   ]
  },
  {
   "cell_type": "code",
   "execution_count": 9,
   "id": "517f6ef5",
   "metadata": {},
   "outputs": [],
   "source": [
    "def convert_to_float(s):\n",
    "    digits = re.findall(r'\\d+', s)\n",
    "    val = ''\n",
    "    for num in digits:\n",
    "        val += (num) + '.'\n",
    "    if s[-2:].strip() == \"Cr\":\n",
    "        return float(val[:-1]) * 10000000\n",
    "    else:\n",
    "        return float(val[:-1]) * 100000\n",
    "\n",
    "df['Price'] = df['Price'].apply(lambda x: convert_to_float(x))"
   ]
  },
  {
   "cell_type": "code",
   "execution_count": 10,
   "id": "4c4e0241",
   "metadata": {},
   "outputs": [],
   "source": [
    "imputer = KNNImputer(n_neighbors = 3)\n",
    "df = pd.DataFrame(imputer.fit_transform(df),columns = df.columns)"
   ]
  },
  {
   "cell_type": "code",
   "execution_count": 11,
   "id": "2899976b",
   "metadata": {},
   "outputs": [
    {
     "data": {
      "text/html": [
       "<div>\n",
       "<style scoped>\n",
       "    .dataframe tbody tr th:only-of-type {\n",
       "        vertical-align: middle;\n",
       "    }\n",
       "\n",
       "    .dataframe tbody tr th {\n",
       "        vertical-align: top;\n",
       "    }\n",
       "\n",
       "    .dataframe thead th {\n",
       "        text-align: right;\n",
       "    }\n",
       "</style>\n",
       "<table border=\"1\" class=\"dataframe\">\n",
       "  <thead>\n",
       "    <tr style=\"text-align: right;\">\n",
       "      <th></th>\n",
       "      <th>Property</th>\n",
       "      <th>Bhk</th>\n",
       "      <th>Floor</th>\n",
       "      <th>Area</th>\n",
       "      <th>Price</th>\n",
       "    </tr>\n",
       "  </thead>\n",
       "  <tbody>\n",
       "    <tr>\n",
       "      <th>0</th>\n",
       "      <td>1.0</td>\n",
       "      <td>3.0</td>\n",
       "      <td>4.0</td>\n",
       "      <td>957.0</td>\n",
       "      <td>19200000.0</td>\n",
       "    </tr>\n",
       "    <tr>\n",
       "      <th>1</th>\n",
       "      <td>1.0</td>\n",
       "      <td>3.0</td>\n",
       "      <td>11.0</td>\n",
       "      <td>1199.0</td>\n",
       "      <td>12900000.0</td>\n",
       "    </tr>\n",
       "    <tr>\n",
       "      <th>2</th>\n",
       "      <td>1.0</td>\n",
       "      <td>2.0</td>\n",
       "      <td>5.0</td>\n",
       "      <td>882.0</td>\n",
       "      <td>16500000.0</td>\n",
       "    </tr>\n",
       "    <tr>\n",
       "      <th>3</th>\n",
       "      <td>1.0</td>\n",
       "      <td>2.0</td>\n",
       "      <td>5.0</td>\n",
       "      <td>825.0</td>\n",
       "      <td>9100000.0</td>\n",
       "    </tr>\n",
       "    <tr>\n",
       "      <th>4</th>\n",
       "      <td>1.0</td>\n",
       "      <td>3.0</td>\n",
       "      <td>9.0</td>\n",
       "      <td>1414.0</td>\n",
       "      <td>29700000.0</td>\n",
       "    </tr>\n",
       "  </tbody>\n",
       "</table>\n",
       "</div>"
      ],
      "text/plain": [
       "   Property  Bhk  Floor    Area       Price\n",
       "0       1.0  3.0    4.0   957.0  19200000.0\n",
       "1       1.0  3.0   11.0  1199.0  12900000.0\n",
       "2       1.0  2.0    5.0   882.0  16500000.0\n",
       "3       1.0  2.0    5.0   825.0   9100000.0\n",
       "4       1.0  3.0    9.0  1414.0  29700000.0"
      ]
     },
     "execution_count": 11,
     "metadata": {},
     "output_type": "execute_result"
    }
   ],
   "source": [
    "df.head()"
   ]
  },
  {
   "cell_type": "code",
   "execution_count": 12,
   "id": "7791c501",
   "metadata": {},
   "outputs": [],
   "source": [
    "X = df.drop('Price',axis = 1)\n",
    "y = df['Price']"
   ]
  },
  {
   "cell_type": "code",
   "execution_count": 13,
   "id": "6bff8e21",
   "metadata": {},
   "outputs": [
    {
     "data": {
      "text/plain": [
       "0.757982278022182"
      ]
     },
     "execution_count": 13,
     "metadata": {},
     "output_type": "execute_result"
    }
   ],
   "source": [
    "X_train,X_test,y_train,y_test = train_test_split(X,y,test_size = 0.2)\n",
    "lr = LinearRegression()\n",
    "lr.fit(X_train,y_train)\n",
    "lr.score(X_test,y_test)"
   ]
  },
  {
   "cell_type": "code",
   "execution_count": 14,
   "id": "4e7ae7ca",
   "metadata": {},
   "outputs": [
    {
     "data": {
      "text/plain": [
       "0.9901423109009297"
      ]
     },
     "execution_count": 14,
     "metadata": {},
     "output_type": "execute_result"
    }
   ],
   "source": [
    "rfr = RandomForestRegressor()\n",
    "rfr.fit(X_train,y_train)\n",
    "rfr.score(X_test,y_test)"
   ]
  },
  {
   "cell_type": "code",
   "execution_count": 15,
   "id": "2349facb",
   "metadata": {},
   "outputs": [
    {
     "data": {
      "text/plain": [
       "0.9917121146376804"
      ]
     },
     "execution_count": 15,
     "metadata": {},
     "output_type": "execute_result"
    }
   ],
   "source": [
    "dtr = DecisionTreeRegressor()\n",
    "dtr.fit(X_train,y_train)\n",
    "dtr.score(X_test,y_test)"
   ]
  },
  {
   "cell_type": "code",
   "execution_count": null,
   "id": "2afdb55c",
   "metadata": {},
   "outputs": [],
   "source": []
  }
 ],
 "metadata": {
  "kernelspec": {
   "display_name": "Python 3 (ipykernel)",
   "language": "python",
   "name": "python3"
  },
  "language_info": {
   "codemirror_mode": {
    "name": "ipython",
    "version": 3
   },
   "file_extension": ".py",
   "mimetype": "text/x-python",
   "name": "python",
   "nbconvert_exporter": "python",
   "pygments_lexer": "ipython3",
   "version": "3.9.0"
  }
 },
 "nbformat": 4,
 "nbformat_minor": 5
}
